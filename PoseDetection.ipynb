{
  "cells": [
    {
      "cell_type": "code",
      "execution_count": 1,
      "metadata": {
        "colab": {
          "base_uri": "https://localhost:8080/",
          "height": 972
        },
        "id": "xaNaKYrb5m3f",
        "outputId": "c8de7b1f-9bed-4f05-cd09-6a98d4a336f9"
      },
      "outputs": [
        {
          "name": "stderr",
          "output_type": "stream",
          "text": [
            "c:\\Users\\Vansh\\AppData\\Local\\Programs\\Python\\Python311\\Lib\\site-packages\\google\\protobuf\\symbol_database.py:55: UserWarning: SymbolDatabase.GetPrototype() is deprecated. Please use message_factory.GetMessageClass() instead. SymbolDatabase.GetPrototype() will be removed soon.\n",
            "  warnings.warn('SymbolDatabase.GetPrototype() is deprecated. Please '\n"
          ]
        }
      ],
      "source": [
        "import cv2\n",
        "import mediapipe as mp\n",
        "\n",
        "def detect_pose(image_path):\n",
        "    # Initialize MediaPipe Pose\n",
        "    mp_pose = mp.solutions.pose\n",
        "    pose = mp_pose.Pose(static_image_mode=True, min_detection_confidence=0.5)\n",
        "\n",
        "    # Read the image\n",
        "    image = cv2.imread(image_path)\n",
        "    image_rgb = cv2.cvtColor(image, cv2.COLOR_BGR2RGB)\n",
        "\n",
        "    # Process the image\n",
        "    results = pose.process(image_rgb)\n",
        "\n",
        "    # Get landmarks\n",
        "    landmarks = []\n",
        "    if results.pose_landmarks:\n",
        "        for landmark in results.pose_landmarks.landmark:\n",
        "            landmarks.append((landmark.x, landmark.y, landmark.z))\n",
        "\n",
        "    # Close the Pose model\n",
        "    pose.close()\n",
        "\n",
        "    # Return results along with landmarks and image\n",
        "    return landmarks, image, results # Added results to the return values\n",
        "\n",
        "# Example usage\n",
        "image_path = \"footballer.webp\"\n",
        "landmarks, image, results = detect_pose(image_path) # Receive results from the function call\n",
        "\n",
        "# Draw landmarks on the image (optional)\n",
        "if landmarks:\n",
        "    mp_drawing = mp.solutions.drawing_utils\n",
        "    mp_pose = mp.solutions.pose\n",
        "    mp_drawing.draw_landmarks(image, results.pose_landmarks, mp_pose.POSE_CONNECTIONS)\n",
        "\n",
        "    # Display the image\n",
        "    cv2.imwrite(\"output.jpg\", image)\n",
        "    cv2.waitKey(0)\n",
        "    cv2.destroyAllWindows()"
      ]
    },
    {
      "cell_type": "code",
      "execution_count": 1,
      "metadata": {
        "id": "-HmrxaRjwQkd"
      },
      "outputs": [
        {
          "name": "stderr",
          "output_type": "stream",
          "text": [
            "c:\\Users\\Vansh\\AppData\\Local\\Programs\\Python\\Python311\\Lib\\site-packages\\google\\protobuf\\symbol_database.py:55: UserWarning: SymbolDatabase.GetPrototype() is deprecated. Please use message_factory.GetMessageClass() instead. SymbolDatabase.GetPrototype() will be removed soon.\n",
            "  warnings.warn('SymbolDatabase.GetPrototype() is deprecated. Please '\n"
          ]
        }
      ],
      "source": [
        "import cv2\n",
        "import mediapipe as mp\n",
        "\n",
        "def real_time_pose_detection():\n",
        "    mp_pose = mp.solutions.pose\n",
        "    mp_drawing = mp.solutions.drawing_utils\n",
        "    pose = mp_pose.Pose(static_image_mode=False, min_detection_confidence=0.5, min_tracking_confidence=0.5)\n",
        "\n",
        "    cap = cv2.VideoCapture(0)  # Using 0 for webcam\n",
        "\n",
        "    while cap.isOpened():\n",
        "        ret, frame = cap.read()\n",
        "        if not ret:\n",
        "            break\n",
        "\n",
        "        # Convert the BGR image to RGB\n",
        "        image = cv2.cvtColor(frame, cv2.COLOR_BGR2RGB)\n",
        "\n",
        "        # Process the image\n",
        "        results = pose.process(image)\n",
        "\n",
        "        # Draw the pose annotation on the image\n",
        "        image = cv2.cvtColor(image, cv2.COLOR_RGB2BGR)\n",
        "        if results.pose_landmarks:\n",
        "            mp_drawing.draw_landmarks(image, results.pose_landmarks, mp_pose.POSE_CONNECTIONS)\n",
        "\n",
        "        # Display the image\n",
        "        cv2.imshow('Real-time Pose Detection', image)\n",
        "\n",
        "        if cv2.waitKey(5) & 0xFF == 27:  # Press 'ESC' to exit\n",
        "            break\n",
        "\n",
        "    cap.release()\n",
        "    cv2.destroyAllWindows()\n",
        "\n",
        "# Run the real-time pose detection\n",
        "real_time_pose_detection()"
      ]
    }
  ],
  "metadata": {
    "colab": {
      "provenance": []
    },
    "kernelspec": {
      "display_name": "Python 3",
      "name": "python3"
    },
    "language_info": {
      "codemirror_mode": {
        "name": "ipython",
        "version": 3
      },
      "file_extension": ".py",
      "mimetype": "text/x-python",
      "name": "python",
      "nbconvert_exporter": "python",
      "pygments_lexer": "ipython3",
      "version": "3.11.4"
    }
  },
  "nbformat": 4,
  "nbformat_minor": 0
}
